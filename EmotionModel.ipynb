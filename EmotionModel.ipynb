{
 "cells": [
  {
   "cell_type": "code",
   "execution_count": 1,
   "metadata": {},
   "outputs": [],
   "source": [
    "from __future__ import print_function\n",
    "import keras\n",
    "from keras.preprocessing.image import ImageDataGenerator\n",
    "from keras.models import Sequential\n",
    "from keras.layers import Dense,Dropout,Activation,Flatten,BatchNormalization\n",
    "from keras.layers import Conv2D,MaxPooling2D\n",
    "import os\n"
   ]
  },
  {
   "cell_type": "code",
   "execution_count": 2,
   "metadata": {},
   "outputs": [],
   "source": [
    "num_classes=5\n",
    "img_rows,img_cols=48,48\n",
    "batch_size=32"
   ]
  },
  {
   "cell_type": "code",
   "execution_count": 3,
   "metadata": {},
   "outputs": [],
   "source": [
    "train_data_dir='fer2013/train'\n",
    "validation_data_dir='fer2013/validation'"
   ]
  },
  {
   "cell_type": "code",
   "execution_count": 4,
   "metadata": {},
   "outputs": [],
   "source": [
    "train_datagen = ImageDataGenerator(\n",
    "    rescale=1./255,\n",
    "    rotation_range=30,\n",
    "    shear_range=0.3,\n",
    "    zoom_range=0.3,\n",
    "    width_shift_range=0.4,\n",
    "    height_shift_range=0.4,\n",
    "    horizontal_flip=True,\n",
    "    fill_mode='nearest')\n",
    "\n",
    "validation_datagen = ImageDataGenerator(rescale=1./255)"
   ]
  },
  {
   "cell_type": "code",
   "execution_count": 5,
   "metadata": {},
   "outputs": [
    {
     "ename": "FileNotFoundError",
     "evalue": "[WinError 3] The system cannot find the path specified: 'fer2013/train'",
     "output_type": "error",
     "traceback": [
      "\u001b[1;31m---------------------------------------------------------------------------\u001b[0m",
      "\u001b[1;31mFileNotFoundError\u001b[0m                         Traceback (most recent call last)",
      "\u001b[1;32mc:\\Users\\hasan\\OneDrive\\Documents\\UOTTAHACK\\EmotionModel.ipynb Cell 5'\u001b[0m in \u001b[0;36m<cell line: 1>\u001b[1;34m()\u001b[0m\n\u001b[1;32m----> <a href='vscode-notebook-cell:/c%3A/Users/hasan/OneDrive/Documents/UOTTAHACK/EmotionModel.ipynb#ch0000004?line=0'>1</a>\u001b[0m train_generator \u001b[39m=\u001b[39m train_datagen\u001b[39m.\u001b[39;49mflow_from_directory(\n\u001b[0;32m      <a href='vscode-notebook-cell:/c%3A/Users/hasan/OneDrive/Documents/UOTTAHACK/EmotionModel.ipynb#ch0000004?line=1'>2</a>\u001b[0m                         train_data_dir,\n\u001b[0;32m      <a href='vscode-notebook-cell:/c%3A/Users/hasan/OneDrive/Documents/UOTTAHACK/EmotionModel.ipynb#ch0000004?line=2'>3</a>\u001b[0m                         color_mode\u001b[39m=\u001b[39;49m\u001b[39m'\u001b[39;49m\u001b[39mgrayscale\u001b[39;49m\u001b[39m'\u001b[39;49m,\n\u001b[0;32m      <a href='vscode-notebook-cell:/c%3A/Users/hasan/OneDrive/Documents/UOTTAHACK/EmotionModel.ipynb#ch0000004?line=3'>4</a>\u001b[0m                         target_size\u001b[39m=\u001b[39;49m(img_rows,img_cols),\n\u001b[0;32m      <a href='vscode-notebook-cell:/c%3A/Users/hasan/OneDrive/Documents/UOTTAHACK/EmotionModel.ipynb#ch0000004?line=4'>5</a>\u001b[0m                         batch_size\u001b[39m=\u001b[39;49mbatch_size,\n\u001b[0;32m      <a href='vscode-notebook-cell:/c%3A/Users/hasan/OneDrive/Documents/UOTTAHACK/EmotionModel.ipynb#ch0000004?line=5'>6</a>\u001b[0m                         class_mode\u001b[39m=\u001b[39;49m\u001b[39m'\u001b[39;49m\u001b[39mcategorical\u001b[39;49m\u001b[39m'\u001b[39;49m,\n\u001b[0;32m      <a href='vscode-notebook-cell:/c%3A/Users/hasan/OneDrive/Documents/UOTTAHACK/EmotionModel.ipynb#ch0000004?line=6'>7</a>\u001b[0m                         shuffle\u001b[39m=\u001b[39;49m\u001b[39mTrue\u001b[39;49;00m)\n\u001b[0;32m      <a href='vscode-notebook-cell:/c%3A/Users/hasan/OneDrive/Documents/UOTTAHACK/EmotionModel.ipynb#ch0000004?line=8'>9</a>\u001b[0m validation_generator \u001b[39m=\u001b[39m validation_datagen\u001b[39m.\u001b[39mflow_from_directory(\n\u001b[0;32m     <a href='vscode-notebook-cell:/c%3A/Users/hasan/OneDrive/Documents/UOTTAHACK/EmotionModel.ipynb#ch0000004?line=9'>10</a>\u001b[0m                                 validation_data_dir,\n\u001b[0;32m     <a href='vscode-notebook-cell:/c%3A/Users/hasan/OneDrive/Documents/UOTTAHACK/EmotionModel.ipynb#ch0000004?line=10'>11</a>\u001b[0m                                 color_mode\u001b[39m=\u001b[39m\u001b[39m'\u001b[39m\u001b[39mgrayscale\u001b[39m\u001b[39m'\u001b[39m,\n\u001b[1;32m   (...)\u001b[0m\n\u001b[0;32m     <a href='vscode-notebook-cell:/c%3A/Users/hasan/OneDrive/Documents/UOTTAHACK/EmotionModel.ipynb#ch0000004?line=13'>14</a>\u001b[0m                                 class_mode\u001b[39m=\u001b[39m\u001b[39m'\u001b[39m\u001b[39mcategorical\u001b[39m\u001b[39m'\u001b[39m,\n\u001b[0;32m     <a href='vscode-notebook-cell:/c%3A/Users/hasan/OneDrive/Documents/UOTTAHACK/EmotionModel.ipynb#ch0000004?line=14'>15</a>\u001b[0m                                 shuffle\u001b[39m=\u001b[39m\u001b[39mTrue\u001b[39;00m)\n",
      "File \u001b[1;32m~\\anaconda3\\lib\\site-packages\\keras\\preprocessing\\image.py:1650\u001b[0m, in \u001b[0;36mImageDataGenerator.flow_from_directory\u001b[1;34m(self, directory, target_size, color_mode, classes, class_mode, batch_size, shuffle, seed, save_to_dir, save_prefix, save_format, follow_links, subset, interpolation, keep_aspect_ratio)\u001b[0m\n\u001b[0;32m   <a href='file:///c%3A/Users/hasan/anaconda3/lib/site-packages/keras/preprocessing/image.py?line=1563'>1564</a>\u001b[0m \u001b[39mdef\u001b[39;00m \u001b[39mflow_from_directory\u001b[39m(\n\u001b[0;32m   <a href='file:///c%3A/Users/hasan/anaconda3/lib/site-packages/keras/preprocessing/image.py?line=1564'>1565</a>\u001b[0m     \u001b[39mself\u001b[39m,\n\u001b[0;32m   <a href='file:///c%3A/Users/hasan/anaconda3/lib/site-packages/keras/preprocessing/image.py?line=1565'>1566</a>\u001b[0m     directory,\n\u001b[1;32m   (...)\u001b[0m\n\u001b[0;32m   <a href='file:///c%3A/Users/hasan/anaconda3/lib/site-packages/keras/preprocessing/image.py?line=1579'>1580</a>\u001b[0m     keep_aspect_ratio\u001b[39m=\u001b[39m\u001b[39mFalse\u001b[39;00m,\n\u001b[0;32m   <a href='file:///c%3A/Users/hasan/anaconda3/lib/site-packages/keras/preprocessing/image.py?line=1580'>1581</a>\u001b[0m ):\n\u001b[0;32m   <a href='file:///c%3A/Users/hasan/anaconda3/lib/site-packages/keras/preprocessing/image.py?line=1581'>1582</a>\u001b[0m     \u001b[39m\"\"\"Takes the path to a directory & generates batches of augmented data.\u001b[39;00m\n\u001b[0;32m   <a href='file:///c%3A/Users/hasan/anaconda3/lib/site-packages/keras/preprocessing/image.py?line=1582'>1583</a>\u001b[0m \n\u001b[0;32m   <a href='file:///c%3A/Users/hasan/anaconda3/lib/site-packages/keras/preprocessing/image.py?line=1583'>1584</a>\u001b[0m \u001b[39m    Args:\u001b[39;00m\n\u001b[1;32m   (...)\u001b[0m\n\u001b[0;32m   <a href='file:///c%3A/Users/hasan/anaconda3/lib/site-packages/keras/preprocessing/image.py?line=1647'>1648</a>\u001b[0m \u001b[39m            and `y` is a numpy array of corresponding labels.\u001b[39;00m\n\u001b[0;32m   <a href='file:///c%3A/Users/hasan/anaconda3/lib/site-packages/keras/preprocessing/image.py?line=1648'>1649</a>\u001b[0m \u001b[39m    \"\"\"\u001b[39;00m\n\u001b[1;32m-> <a href='file:///c%3A/Users/hasan/anaconda3/lib/site-packages/keras/preprocessing/image.py?line=1649'>1650</a>\u001b[0m     \u001b[39mreturn\u001b[39;00m DirectoryIterator(\n\u001b[0;32m   <a href='file:///c%3A/Users/hasan/anaconda3/lib/site-packages/keras/preprocessing/image.py?line=1650'>1651</a>\u001b[0m         directory,\n\u001b[0;32m   <a href='file:///c%3A/Users/hasan/anaconda3/lib/site-packages/keras/preprocessing/image.py?line=1651'>1652</a>\u001b[0m         \u001b[39mself\u001b[39;49m,\n\u001b[0;32m   <a href='file:///c%3A/Users/hasan/anaconda3/lib/site-packages/keras/preprocessing/image.py?line=1652'>1653</a>\u001b[0m         target_size\u001b[39m=\u001b[39;49mtarget_size,\n\u001b[0;32m   <a href='file:///c%3A/Users/hasan/anaconda3/lib/site-packages/keras/preprocessing/image.py?line=1653'>1654</a>\u001b[0m         color_mode\u001b[39m=\u001b[39;49mcolor_mode,\n\u001b[0;32m   <a href='file:///c%3A/Users/hasan/anaconda3/lib/site-packages/keras/preprocessing/image.py?line=1654'>1655</a>\u001b[0m         keep_aspect_ratio\u001b[39m=\u001b[39;49mkeep_aspect_ratio,\n\u001b[0;32m   <a href='file:///c%3A/Users/hasan/anaconda3/lib/site-packages/keras/preprocessing/image.py?line=1655'>1656</a>\u001b[0m         classes\u001b[39m=\u001b[39;49mclasses,\n\u001b[0;32m   <a href='file:///c%3A/Users/hasan/anaconda3/lib/site-packages/keras/preprocessing/image.py?line=1656'>1657</a>\u001b[0m         class_mode\u001b[39m=\u001b[39;49mclass_mode,\n\u001b[0;32m   <a href='file:///c%3A/Users/hasan/anaconda3/lib/site-packages/keras/preprocessing/image.py?line=1657'>1658</a>\u001b[0m         data_format\u001b[39m=\u001b[39;49m\u001b[39mself\u001b[39;49m\u001b[39m.\u001b[39;49mdata_format,\n\u001b[0;32m   <a href='file:///c%3A/Users/hasan/anaconda3/lib/site-packages/keras/preprocessing/image.py?line=1658'>1659</a>\u001b[0m         batch_size\u001b[39m=\u001b[39;49mbatch_size,\n\u001b[0;32m   <a href='file:///c%3A/Users/hasan/anaconda3/lib/site-packages/keras/preprocessing/image.py?line=1659'>1660</a>\u001b[0m         shuffle\u001b[39m=\u001b[39;49mshuffle,\n\u001b[0;32m   <a href='file:///c%3A/Users/hasan/anaconda3/lib/site-packages/keras/preprocessing/image.py?line=1660'>1661</a>\u001b[0m         seed\u001b[39m=\u001b[39;49mseed,\n\u001b[0;32m   <a href='file:///c%3A/Users/hasan/anaconda3/lib/site-packages/keras/preprocessing/image.py?line=1661'>1662</a>\u001b[0m         save_to_dir\u001b[39m=\u001b[39;49msave_to_dir,\n\u001b[0;32m   <a href='file:///c%3A/Users/hasan/anaconda3/lib/site-packages/keras/preprocessing/image.py?line=1662'>1663</a>\u001b[0m         save_prefix\u001b[39m=\u001b[39;49msave_prefix,\n\u001b[0;32m   <a href='file:///c%3A/Users/hasan/anaconda3/lib/site-packages/keras/preprocessing/image.py?line=1663'>1664</a>\u001b[0m         save_format\u001b[39m=\u001b[39;49msave_format,\n\u001b[0;32m   <a href='file:///c%3A/Users/hasan/anaconda3/lib/site-packages/keras/preprocessing/image.py?line=1664'>1665</a>\u001b[0m         follow_links\u001b[39m=\u001b[39;49mfollow_links,\n\u001b[0;32m   <a href='file:///c%3A/Users/hasan/anaconda3/lib/site-packages/keras/preprocessing/image.py?line=1665'>1666</a>\u001b[0m         subset\u001b[39m=\u001b[39;49msubset,\n\u001b[0;32m   <a href='file:///c%3A/Users/hasan/anaconda3/lib/site-packages/keras/preprocessing/image.py?line=1666'>1667</a>\u001b[0m         interpolation\u001b[39m=\u001b[39;49minterpolation,\n\u001b[0;32m   <a href='file:///c%3A/Users/hasan/anaconda3/lib/site-packages/keras/preprocessing/image.py?line=1667'>1668</a>\u001b[0m         dtype\u001b[39m=\u001b[39;49m\u001b[39mself\u001b[39;49m\u001b[39m.\u001b[39;49mdtype,\n\u001b[0;32m   <a href='file:///c%3A/Users/hasan/anaconda3/lib/site-packages/keras/preprocessing/image.py?line=1668'>1669</a>\u001b[0m     )\n",
      "File \u001b[1;32m~\\anaconda3\\lib\\site-packages\\keras\\preprocessing\\image.py:563\u001b[0m, in \u001b[0;36mDirectoryIterator.__init__\u001b[1;34m(self, directory, image_data_generator, target_size, color_mode, classes, class_mode, batch_size, shuffle, seed, data_format, save_to_dir, save_prefix, save_format, follow_links, subset, interpolation, keep_aspect_ratio, dtype)\u001b[0m\n\u001b[0;32m    <a href='file:///c%3A/Users/hasan/anaconda3/lib/site-packages/keras/preprocessing/image.py?line=560'>561</a>\u001b[0m \u001b[39mif\u001b[39;00m \u001b[39mnot\u001b[39;00m classes:\n\u001b[0;32m    <a href='file:///c%3A/Users/hasan/anaconda3/lib/site-packages/keras/preprocessing/image.py?line=561'>562</a>\u001b[0m     classes \u001b[39m=\u001b[39m []\n\u001b[1;32m--> <a href='file:///c%3A/Users/hasan/anaconda3/lib/site-packages/keras/preprocessing/image.py?line=562'>563</a>\u001b[0m     \u001b[39mfor\u001b[39;00m subdir \u001b[39min\u001b[39;00m \u001b[39msorted\u001b[39m(os\u001b[39m.\u001b[39;49mlistdir(directory)):\n\u001b[0;32m    <a href='file:///c%3A/Users/hasan/anaconda3/lib/site-packages/keras/preprocessing/image.py?line=563'>564</a>\u001b[0m         \u001b[39mif\u001b[39;00m os\u001b[39m.\u001b[39mpath\u001b[39m.\u001b[39misdir(os\u001b[39m.\u001b[39mpath\u001b[39m.\u001b[39mjoin(directory, subdir)):\n\u001b[0;32m    <a href='file:///c%3A/Users/hasan/anaconda3/lib/site-packages/keras/preprocessing/image.py?line=564'>565</a>\u001b[0m             classes\u001b[39m.\u001b[39mappend(subdir)\n",
      "\u001b[1;31mFileNotFoundError\u001b[0m: [WinError 3] The system cannot find the path specified: 'fer2013/train'"
     ]
    }
   ],
   "source": [
    "train_generator = train_datagen.flow_from_directory(\n",
    "                        train_data_dir,\n",
    "                        color_mode='grayscale',\n",
    "                        target_size=(img_rows,img_cols),\n",
    "                        batch_size=batch_size,\n",
    "                        class_mode='categorical',\n",
    "                        shuffle=True)\n",
    "\n",
    "validation_generator = validation_datagen.flow_from_directory(\n",
    "                                validation_data_dir,\n",
    "                                color_mode='grayscale',\n",
    "                                target_size=(img_rows,img_cols),\n",
    "                                batch_size=batch_size,\n",
    "                                class_mode='categorical',\n",
    "                                shuffle=True)"
   ]
  }
 ],
 "metadata": {
  "interpreter": {
   "hash": "634d0cdf00b355cd85042fbe0824de228df07578cd1f92a580065041ed26857b"
  },
  "kernelspec": {
   "display_name": "Python 3.9.7 64-bit",
   "language": "python",
   "name": "python3"
  },
  "language_info": {
   "codemirror_mode": {
    "name": "ipython",
    "version": 3
   },
   "file_extension": ".py",
   "mimetype": "text/x-python",
   "name": "python",
   "nbconvert_exporter": "python",
   "pygments_lexer": "ipython3",
   "version": "3.9.12"
  },
  "orig_nbformat": 4
 },
 "nbformat": 4,
 "nbformat_minor": 2
}
