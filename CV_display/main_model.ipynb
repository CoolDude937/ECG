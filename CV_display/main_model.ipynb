{
 "cells": [
  {
   "cell_type": "code",
   "execution_count": 1,
   "metadata": {},
   "outputs": [],
   "source": [
    "import tensorflow as tf\n",
    "import keras.layers as tfkl\n",
    "from keras.preprocessing.image import ImageDataGenerator\n",
    "from keras.models import Sequential\n",
    "from keras.layers import Dense,Dropout,Activation,Flatten,BatchNormalization\n",
    "from keras.layers import Conv2D,MaxPooling2D\n",
    "import os\n",
    "import matplotlib.pyplot as plt"
   ]
  },
  {
   "cell_type": "code",
   "execution_count": 2,
   "metadata": {},
   "outputs": [
    {
     "data": {
      "text/plain": [
       "True"
      ]
     },
     "execution_count": 2,
     "metadata": {},
     "output_type": "execute_result"
    }
   ],
   "source": [
    "# Check GPU Avaialability\n",
    "tf.test.is_built_with_cuda()"
   ]
  },
  {
   "cell_type": "code",
   "execution_count": 3,
   "metadata": {},
   "outputs": [],
   "source": [
    "# Constants for the model\n",
    "NUM_CLASSES = 5\n",
    "CLASSES = [\"Angry\", \"Happy\", \"Neutral\", \"sad\", \"Suprise\"]\n",
    "IMG_ROWS = 48\n",
    "IMG_COLS = 48\n",
    "\n",
    "num_train_samples = 24176\n",
    "num_validation_samples = 3006\n",
    "\n",
    "# Hyperparams\n",
    "batch_size = 64"
   ]
  },
  {
   "cell_type": "code",
   "execution_count": 4,
   "metadata": {},
   "outputs": [],
   "source": [
    "# Data Directory (FER2013 downloaded locally on Mark's Laptop)\n",
    "TRAIN_DATA_DIR = r\"C:\\Users\\markd\\Documents\\fer2013\\train\"\n",
    "VAL_DATA_DIR = r\"C:\\Users\\markd\\Documents\\fer2013\\validation\""
   ]
  },
  {
   "cell_type": "code",
   "execution_count": 5,
   "metadata": {},
   "outputs": [],
   "source": [
    "# Image augmentation\n",
    "# only augment the training set but normalize both inputs\n",
    "train_datagen = ImageDataGenerator(\n",
    "    rescale=1./255,\n",
    "    rotation_range=30,\n",
    "    shear_range=0.3,\n",
    "    zoom_range=0.3,\n",
    "    width_shift_range=0.4,\n",
    "    height_shift_range=0.4,\n",
    "    horizontal_flip=True,\n",
    "    fill_mode='nearest')\n",
    "\n",
    "validation_datagen = ImageDataGenerator(rescale=1./255)"
   ]
  },
  {
   "cell_type": "code",
   "execution_count": 6,
   "metadata": {},
   "outputs": [
    {
     "name": "stdout",
     "output_type": "stream",
     "text": [
      "Found 24256 images belonging to 5 classes.\n",
      "Found 3006 images belonging to 5 classes.\n"
     ]
    }
   ],
   "source": [
    "# Define Generators\n",
    "train_generator = train_datagen.flow_from_directory(\n",
    " TRAIN_DATA_DIR,\n",
    " color_mode='grayscale',\n",
    " target_size=(IMG_ROWS,IMG_COLS),\n",
    " batch_size=batch_size,\n",
    " class_mode='categorical',\n",
    " shuffle=True)\n",
    "\n",
    "validation_generator = validation_datagen.flow_from_directory(\n",
    " VAL_DATA_DIR,\n",
    " color_mode='grayscale',\n",
    " target_size=(IMG_ROWS,IMG_COLS),\n",
    " batch_size=batch_size,\n",
    " class_mode='categorical',\n",
    " shuffle=True)"
   ]
  },
  {
   "cell_type": "code",
   "execution_count": 7,
   "metadata": {},
   "outputs": [],
   "source": [
    "# Helper functions for after training\n",
    "def plot_loss(hist):\n",
    "    plt.title(\"\")\n",
    "    plt.plot(hist.history['loss'])\n",
    "    plt.plot(hist.history['val_loss'])\n",
    "    plt.xlabel(\"# Epochs\")\n",
    "    plt.ylabel(\"Loss\")\n",
    "    plt.show()\n",
    "\n",
    "# Plot results\n",
    "def plot_acc(hist):\n",
    "    plt.title(\"\")\n",
    "    plt.plot(hist.history['accuracy'])\n",
    "    plt.plot(hist.history['val_accuracy'])\n",
    "    plt.xlabel(\"# Epochs\")\n",
    "    plt.ylabel(\"accuracy\")\n",
    "    plt.show()"
   ]
  },
  {
   "cell_type": "code",
   "execution_count": 8,
   "metadata": {},
   "outputs": [],
   "source": [
    "# Define Sequential Model\n",
    "model = Sequential([\n",
    "    ## CONV LAYERS \n",
    "    # Block 1\n",
    "    Conv2D(32,(3,3),padding='same',kernel_initializer='he_normal', input_shape=(IMG_ROWS,IMG_COLS,1)),\n",
    "    Activation('elu'),\n",
    "    BatchNormalization(),\n",
    "    Conv2D(32,(3,3),padding='same',kernel_initializer='he_normal'),\n",
    "    Activation('elu'),\n",
    "    BatchNormalization(),\n",
    "    Conv2D(64,(3,3),padding='same',kernel_initializer='he_normal'),\n",
    "    Activation('elu'),\n",
    "    BatchNormalization(),\n",
    "    MaxPooling2D(pool_size=(2,2)),\n",
    "    Dropout(0.3),\n",
    "\n",
    "    # Block 2\n",
    "    Conv2D(64,(3,3),padding='same',kernel_initializer='he_normal'),\n",
    "    Activation('elu'),\n",
    "    BatchNormalization(),\n",
    "    Conv2D(64,(3,3),padding='same',kernel_initializer='he_normal'),\n",
    "    Activation('elu'),\n",
    "    BatchNormalization(),\n",
    "    Conv2D(128,(3,3),padding='same',kernel_initializer='he_normal'),\n",
    "    Activation('elu'),\n",
    "    BatchNormalization(),\n",
    "    MaxPooling2D(pool_size=(2,2)),\n",
    "    Dropout(0.3),\n",
    "\n",
    "    # Block 3\n",
    "    Conv2D(128,(3,3),padding='same',kernel_initializer='he_normal'),\n",
    "    Activation('elu'),\n",
    "    BatchNormalization(),\n",
    "    Conv2D(128,(3,3),padding='same',kernel_initializer='he_normal'),\n",
    "    Activation('elu'),\n",
    "    BatchNormalization(),\n",
    "    Conv2D(256,(3,3),padding='same',kernel_initializer='he_normal'),\n",
    "    Activation('elu'),\n",
    "    BatchNormalization(),\n",
    "    MaxPooling2D(pool_size=(2,2)),\n",
    "    Dropout(0.3),\n",
    "\n",
    "    # Block 4\n",
    "    Conv2D(256,(3,3),padding='same',kernel_initializer='he_normal'),\n",
    "    Activation('elu'),\n",
    "    BatchNormalization(),\n",
    "    Conv2D(256,(3,3),padding='same',kernel_initializer='he_normal'),\n",
    "    Activation('elu'),\n",
    "    BatchNormalization(),\n",
    "    Conv2D(512,(3,3),padding='same',kernel_initializer='he_normal'),\n",
    "    Activation('elu'),\n",
    "    BatchNormalization(),\n",
    "    MaxPooling2D(pool_size=(2,2)),\n",
    "    Dropout(0.3),\n",
    "\n",
    "    ## FC LAYERS\n",
    "    # Block 5\n",
    "    Flatten(),\n",
    "    Dense(64,kernel_initializer='he_normal'),\n",
    "    Activation('elu'),\n",
    "    BatchNormalization(),\n",
    "    Dropout(0.5),\n",
    "\n",
    "    # Block 6\n",
    "    Flatten(),\n",
    "    Dense(64,kernel_initializer='he_normal'),\n",
    "    Activation('elu'),\n",
    "    BatchNormalization(),\n",
    "    Dropout(0.5),\n",
    "\n",
    "    # Block 7\n",
    "    Dense(NUM_CLASSES,kernel_initializer='he_normal'),\n",
    "    Activation('softmax'),\n",
    "])"
   ]
  },
  {
   "cell_type": "code",
   "execution_count": 9,
   "metadata": {},
   "outputs": [
    {
     "name": "stdout",
     "output_type": "stream",
     "text": [
      "Model: \"sequential\"\n",
      "_________________________________________________________________\n",
      " Layer (type)                Output Shape              Param #   \n",
      "=================================================================\n",
      " conv2d (Conv2D)             (None, 48, 48, 32)        320       \n",
      "                                                                 \n",
      " activation (Activation)     (None, 48, 48, 32)        0         \n",
      "                                                                 \n",
      " batch_normalization (BatchN  (None, 48, 48, 32)       128       \n",
      " ormalization)                                                   \n",
      "                                                                 \n",
      " conv2d_1 (Conv2D)           (None, 48, 48, 32)        9248      \n",
      "                                                                 \n",
      " activation_1 (Activation)   (None, 48, 48, 32)        0         \n",
      "                                                                 \n",
      " batch_normalization_1 (Batc  (None, 48, 48, 32)       128       \n",
      " hNormalization)                                                 \n",
      "                                                                 \n",
      " conv2d_2 (Conv2D)           (None, 48, 48, 64)        18496     \n",
      "                                                                 \n",
      " activation_2 (Activation)   (None, 48, 48, 64)        0         \n",
      "                                                                 \n",
      " batch_normalization_2 (Batc  (None, 48, 48, 64)       256       \n",
      " hNormalization)                                                 \n",
      "                                                                 \n",
      " max_pooling2d (MaxPooling2D  (None, 24, 24, 64)       0         \n",
      " )                                                               \n",
      "                                                                 \n",
      " dropout (Dropout)           (None, 24, 24, 64)        0         \n",
      "                                                                 \n",
      " conv2d_3 (Conv2D)           (None, 24, 24, 64)        36928     \n",
      "                                                                 \n",
      " activation_3 (Activation)   (None, 24, 24, 64)        0         \n",
      "                                                                 \n",
      " batch_normalization_3 (Batc  (None, 24, 24, 64)       256       \n",
      " hNormalization)                                                 \n",
      "                                                                 \n",
      " conv2d_4 (Conv2D)           (None, 24, 24, 64)        36928     \n",
      "                                                                 \n",
      " activation_4 (Activation)   (None, 24, 24, 64)        0         \n",
      "                                                                 \n",
      " batch_normalization_4 (Batc  (None, 24, 24, 64)       256       \n",
      " hNormalization)                                                 \n",
      "                                                                 \n",
      " conv2d_5 (Conv2D)           (None, 24, 24, 128)       73856     \n",
      "                                                                 \n",
      " activation_5 (Activation)   (None, 24, 24, 128)       0         \n",
      "                                                                 \n",
      " batch_normalization_5 (Batc  (None, 24, 24, 128)      512       \n",
      " hNormalization)                                                 \n",
      "                                                                 \n",
      " max_pooling2d_1 (MaxPooling  (None, 12, 12, 128)      0         \n",
      " 2D)                                                             \n",
      "                                                                 \n",
      " dropout_1 (Dropout)         (None, 12, 12, 128)       0         \n",
      "                                                                 \n",
      " conv2d_6 (Conv2D)           (None, 12, 12, 128)       147584    \n",
      "                                                                 \n",
      " activation_6 (Activation)   (None, 12, 12, 128)       0         \n",
      "                                                                 \n",
      " batch_normalization_6 (Batc  (None, 12, 12, 128)      512       \n",
      " hNormalization)                                                 \n",
      "                                                                 \n",
      " conv2d_7 (Conv2D)           (None, 12, 12, 128)       147584    \n",
      "                                                                 \n",
      " activation_7 (Activation)   (None, 12, 12, 128)       0         \n",
      "                                                                 \n",
      " batch_normalization_7 (Batc  (None, 12, 12, 128)      512       \n",
      " hNormalization)                                                 \n",
      "                                                                 \n",
      " conv2d_8 (Conv2D)           (None, 12, 12, 256)       295168    \n",
      "                                                                 \n",
      " activation_8 (Activation)   (None, 12, 12, 256)       0         \n",
      "                                                                 \n",
      " batch_normalization_8 (Batc  (None, 12, 12, 256)      1024      \n",
      " hNormalization)                                                 \n",
      "                                                                 \n",
      " max_pooling2d_2 (MaxPooling  (None, 6, 6, 256)        0         \n",
      " 2D)                                                             \n",
      "                                                                 \n",
      " dropout_2 (Dropout)         (None, 6, 6, 256)         0         \n",
      "                                                                 \n",
      " conv2d_9 (Conv2D)           (None, 6, 6, 256)         590080    \n",
      "                                                                 \n",
      " activation_9 (Activation)   (None, 6, 6, 256)         0         \n",
      "                                                                 \n",
      " batch_normalization_9 (Batc  (None, 6, 6, 256)        1024      \n",
      " hNormalization)                                                 \n",
      "                                                                 \n",
      " conv2d_10 (Conv2D)          (None, 6, 6, 256)         590080    \n",
      "                                                                 \n",
      " activation_10 (Activation)  (None, 6, 6, 256)         0         \n",
      "                                                                 \n",
      " batch_normalization_10 (Bat  (None, 6, 6, 256)        1024      \n",
      " chNormalization)                                                \n",
      "                                                                 \n",
      " conv2d_11 (Conv2D)          (None, 6, 6, 512)         1180160   \n",
      "                                                                 \n",
      " activation_11 (Activation)  (None, 6, 6, 512)         0         \n",
      "                                                                 \n",
      " batch_normalization_11 (Bat  (None, 6, 6, 512)        2048      \n",
      " chNormalization)                                                \n",
      "                                                                 \n",
      " max_pooling2d_3 (MaxPooling  (None, 3, 3, 512)        0         \n",
      " 2D)                                                             \n",
      "                                                                 \n",
      " dropout_3 (Dropout)         (None, 3, 3, 512)         0         \n",
      "                                                                 \n",
      " flatten (Flatten)           (None, 4608)              0         \n",
      "                                                                 \n",
      " dense (Dense)               (None, 64)                294976    \n",
      "                                                                 \n",
      " activation_12 (Activation)  (None, 64)                0         \n",
      "                                                                 \n",
      " batch_normalization_12 (Bat  (None, 64)               256       \n",
      " chNormalization)                                                \n",
      "                                                                 \n",
      " dropout_4 (Dropout)         (None, 64)                0         \n",
      "                                                                 \n",
      " flatten_1 (Flatten)         (None, 64)                0         \n",
      "                                                                 \n",
      " dense_1 (Dense)             (None, 64)                4160      \n",
      "                                                                 \n",
      " activation_13 (Activation)  (None, 64)                0         \n",
      "                                                                 \n",
      " batch_normalization_13 (Bat  (None, 64)               256       \n",
      " chNormalization)                                                \n",
      "                                                                 \n",
      " dropout_5 (Dropout)         (None, 64)                0         \n",
      "                                                                 \n",
      " dense_2 (Dense)             (None, 5)                 325       \n",
      "                                                                 \n",
      " activation_14 (Activation)  (None, 5)                 0         \n",
      "                                                                 \n",
      "=================================================================\n",
      "Total params: 3,434,085\n",
      "Trainable params: 3,429,989\n",
      "Non-trainable params: 4,096\n",
      "_________________________________________________________________\n",
      "None\n"
     ]
    }
   ],
   "source": [
    "model.compile(optimizer=tf.keras.optimizers.Adam(learning_rate=0.01),\n",
    "               loss='categorical_crossentropy',\n",
    "               metrics='accuracy')\n",
    "print(model.summary())"
   ]
  },
  {
   "cell_type": "code",
   "execution_count": 14,
   "metadata": {},
   "outputs": [
    {
     "name": "stdout",
     "output_type": "stream",
     "text": [
      "Epoch 1/25\n",
      "  1/377 [..............................] - ETA: 36s - loss: 0.9520 - accuracy: 0.6875"
     ]
    },
    {
     "name": "stderr",
     "output_type": "stream",
     "text": [
      "C:\\Users\\markd\\AppData\\Local\\Temp\\ipykernel_17124\\4091066646.py:3: UserWarning: `Model.fit_generator` is deprecated and will be removed in a future version. Please use `Model.fit`, which supports generators.\n",
      "  history = model.fit_generator(\n"
     ]
    },
    {
     "name": "stdout",
     "output_type": "stream",
     "text": [
      "377/377 [==============================] - 18s 46ms/step - loss: 0.8805 - accuracy: 0.6710 - val_loss: 1.2639 - val_accuracy: 0.6270\n",
      "Epoch 2/25\n",
      "377/377 [==============================] - 18s 47ms/step - loss: 0.8812 - accuracy: 0.6646 - val_loss: 1.1882 - val_accuracy: 0.6165\n",
      "Epoch 3/25\n",
      "377/377 [==============================] - 17s 46ms/step - loss: 0.8725 - accuracy: 0.6705 - val_loss: 1.1515 - val_accuracy: 0.6223\n",
      "Epoch 4/25\n",
      "377/377 [==============================] - 18s 47ms/step - loss: 0.8779 - accuracy: 0.6673 - val_loss: 1.2384 - val_accuracy: 0.6151\n",
      "Epoch 5/25\n",
      "377/377 [==============================] - 19s 49ms/step - loss: 0.8759 - accuracy: 0.6712 - val_loss: 1.3233 - val_accuracy: 0.6291\n",
      "Epoch 6/25\n",
      "377/377 [==============================] - 19s 49ms/step - loss: 0.8745 - accuracy: 0.6676 - val_loss: 1.1632 - val_accuracy: 0.6359\n",
      "Epoch 7/25\n",
      "377/377 [==============================] - 18s 47ms/step - loss: 0.8592 - accuracy: 0.6732 - val_loss: 1.2329 - val_accuracy: 0.6325\n",
      "Epoch 8/25\n",
      "377/377 [==============================] - 18s 48ms/step - loss: 0.8638 - accuracy: 0.6747 - val_loss: 1.2690 - val_accuracy: 0.6311\n",
      "Epoch 9/25\n",
      "377/377 [==============================] - 18s 49ms/step - loss: 0.8652 - accuracy: 0.6744 - val_loss: 1.1962 - val_accuracy: 0.6223\n",
      "Epoch 10/25\n",
      "377/377 [==============================] - 18s 47ms/step - loss: 0.8631 - accuracy: 0.6793 - val_loss: 1.1502 - val_accuracy: 0.6287\n",
      "Epoch 11/25\n",
      "377/377 [==============================] - 18s 47ms/step - loss: 0.8652 - accuracy: 0.6794 - val_loss: 1.2864 - val_accuracy: 0.6070\n",
      "Epoch 12/25\n",
      "377/377 [==============================] - 24s 63ms/step - loss: 0.8537 - accuracy: 0.6788 - val_loss: 1.2286 - val_accuracy: 0.6199\n",
      "Epoch 13/25\n",
      "377/377 [==============================] - 18s 48ms/step - loss: 0.8504 - accuracy: 0.6819 - val_loss: 1.3118 - val_accuracy: 0.6345\n",
      "Epoch 14/25\n",
      "377/377 [==============================] - 18s 47ms/step - loss: 0.8517 - accuracy: 0.6810 - val_loss: 1.1120 - val_accuracy: 0.6464\n",
      "Epoch 15/25\n",
      "377/377 [==============================] - 18s 49ms/step - loss: 0.8443 - accuracy: 0.6829 - val_loss: 1.1817 - val_accuracy: 0.6328\n",
      "Epoch 16/25\n",
      "377/377 [==============================] - 18s 47ms/step - loss: 0.8487 - accuracy: 0.6821 - val_loss: 1.1845 - val_accuracy: 0.6294\n",
      "Epoch 17/25\n",
      "377/377 [==============================] - 18s 48ms/step - loss: 0.8425 - accuracy: 0.6856 - val_loss: 1.3621 - val_accuracy: 0.6335\n",
      "Epoch 18/25\n",
      "377/377 [==============================] - 20s 52ms/step - loss: 0.8393 - accuracy: 0.6863 - val_loss: 1.1539 - val_accuracy: 0.6270\n",
      "Epoch 19/25\n",
      "377/377 [==============================] - 19s 50ms/step - loss: 0.8403 - accuracy: 0.6865 - val_loss: 1.1525 - val_accuracy: 0.6138\n",
      "Epoch 20/25\n",
      "377/377 [==============================] - 18s 46ms/step - loss: 0.8366 - accuracy: 0.6880 - val_loss: 1.2514 - val_accuracy: 0.6168\n",
      "Epoch 21/25\n",
      "377/377 [==============================] - 17s 46ms/step - loss: 0.8392 - accuracy: 0.6842 - val_loss: 1.2731 - val_accuracy: 0.6325\n",
      "Epoch 22/25\n",
      "377/377 [==============================] - 17s 46ms/step - loss: 0.8336 - accuracy: 0.6901 - val_loss: 1.2628 - val_accuracy: 0.6298\n",
      "Epoch 23/25\n",
      "377/377 [==============================] - 18s 47ms/step - loss: 0.8402 - accuracy: 0.6866 - val_loss: 1.2054 - val_accuracy: 0.6376\n",
      "Epoch 24/25\n",
      "377/377 [==============================] - 18s 47ms/step - loss: 0.8220 - accuracy: 0.6922 - val_loss: 1.1976 - val_accuracy: 0.6352\n",
      "Epoch 25/25\n",
      "377/377 [==============================] - 18s 46ms/step - loss: 0.8269 - accuracy: 0.6921 - val_loss: 1.2182 - val_accuracy: 0.6345\n"
     ]
    }
   ],
   "source": [
    "# Fit data\n",
    "epochs = 25\n",
    "history = model.fit_generator(\n",
    "    train_generator,\n",
    "    steps_per_epoch = num_train_samples // batch_size,\n",
    "    epochs=epochs,\n",
    "    validation_data = validation_generator,\n",
    "    validation_steps = num_validation_samples // batch_size, \n",
    ")"
   ]
  },
  {
   "cell_type": "code",
   "execution_count": 15,
   "metadata": {},
   "outputs": [
    {
     "data": {
      "image/png": "[encoded data removed]",
      "text/plain": [
       "<Figure size 640x480 with 1 Axes>"
      ]
     },
     "metadata": {},
     "output_type": "display_data"
    },
    {
     "data": {
      "image/png": "[encoded data removed]",
      "text/plain": [
       "<Figure size 640x480 with 1 Axes>"
      ]
     },
     "metadata": {},
     "output_type": "display_data"
    }
   ],
   "source": [
    "plot_acc(history)\n",
    "plot_loss(history)"
   ]
  },
  {
   "cell_type": "code",
   "execution_count": 12,
   "metadata": {},
   "outputs": [],
   "source": [
    "model.save(r\"C:\\Users\\markd\\Documents\\GitHub\\ECG\\CV_display\\emotion_model\", save_format=\"h5\")"
   ]
  },
  {
   "cell_type": "code",
   "execution_count": null,
   "metadata": {},
   "outputs": [],
   "source": []
  }
 ],
 "metadata": {
  "kernelspec": {
   "display_name": "tf",
   "language": "python",
   "name": "python3"
  },
  "language_info": {
   "codemirror_mode": {
    "name": "ipython",
    "version": 3
   },
   "file_extension": ".py",
   "mimetype": "text/x-python",
   "name": "python",
   "nbconvert_exporter": "python",
   "pygments_lexer": "ipython3",
   "version": "3.9.16"
  },
  "orig_nbformat": 4
 },
 "nbformat": 4,
 "nbformat_minor": 2
}
